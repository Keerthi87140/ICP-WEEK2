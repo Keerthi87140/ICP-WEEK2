{
  "nbformat": 4,
  "nbformat_minor": 0,
  "metadata": {
    "colab": {
      "provenance": [],
      "authorship_tag": "ABX9TyP2X+Ar9LVuLWp6Qv2KAIEK",
      "include_colab_link": true
    },
    "kernelspec": {
      "name": "python3",
      "display_name": "Python 3"
    },
    "language_info": {
      "name": "python"
    }
  },
  "cells": [
    {
      "cell_type": "markdown",
      "metadata": {
        "id": "view-in-github",
        "colab_type": "text"
      },
      "source": [
        "<a href=\"https://colab.research.google.com/github/Keerthi87140/ICP-WEEK2/blob/main/ICP_WEEK_2.ipynb\" target=\"_parent\"><img src=\"https://colab.research.google.com/assets/colab-badge.svg\" alt=\"Open In Colab\"/></a>"
      ]
    },
    {
      "cell_type": "code",
      "execution_count": 4,
      "metadata": {
        "colab": {
          "base_uri": "https://localhost:8080/"
        },
        "id": "YEmAln8haBgG",
        "outputId": "594c21ad-4dfb-41b3-f139-06054101a896"
      },
      "outputs": [
        {
          "output_type": "stream",
          "name": "stdout",
          "text": [
            "Average Salary: 81250.0\n",
            "Employee(name=Keerthi, family=Yadlapati, salary=90000, department=IT)\n",
            "Employee(name=Akshitha, family=Bhavanam, salary=80000, department=HR)\n",
            "FulltimeEmployee(name=Deepthi, family=Alluri, salary=85000, department=Marketing)\n",
            "FulltimeEmployee(name=Sathvika, family=Kesamaneni, salary=70000, department=Finance)\n",
            "Total number of employees: 5\n"
          ]
        }
      ],
      "source": [
        "class Employee:\n",
        "    # Class variable to count the number of employees\n",
        "    employee_count = 0\n",
        "\n",
        "    def __init__(self, name, family, salary, department):\n",
        "        self.name = name\n",
        "        self.family = family\n",
        "        self.salary = salary\n",
        "        self.department = department\n",
        "        Employee.employee_count += 1\n",
        "\n",
        "    def average_salary(self, employees):\n",
        "        total_salary = sum(employee.salary for employee in employees)\n",
        "        return total_salary / len(employees) if employees else 0\n",
        "\n",
        "    def __str__(self):\n",
        "        return f\"Employee(name={self.name}, family={self.family}, salary={self.salary}, department={self.department})\"\n",
        "\n",
        "class FulltimeEmployee(Employee):\n",
        "    def __init__(self, name, family, salary, department):\n",
        "        super().__init__(name, family, salary, department)\n",
        "        # attributes  to FulltimeEmployee can be added here\n",
        "\n",
        "    def __str__(self):\n",
        "        return f\"FulltimeEmployee(name={self.name}, family={self.family}, salary={self.salary}, department={self.department})\"\n",
        "\n",
        "# Creating instances of Employee\n",
        "emp1 = Employee(\"Keerthi\", \"Yadlapati\", 90000, \"IT\")\n",
        "emp2 = Employee(\"Akshitha\", \"Bhavanam\", 80000, \"HR\")\n",
        "\n",
        "# Creating instances of FulltimeEmployee\n",
        "ft_emp1 = FulltimeEmployee(\"Deepthi\", \"Alluri\", 85000, \"Marketing\")\n",
        "ft_emp2 = FulltimeEmployee(\"Sathvika\", \"Kesamaneni\", 70000, \"Finance\")\n",
        "\n",
        "# List of all employees\n",
        "all_employees = [emp1, emp2, ft_emp1, ft_emp2]\n",
        "\n",
        "# Calculate and print average salary(average of salary of all employees)\n",
        "employee = Employee(\"Temp\", \"Temp\", 0, \"None\")\n",
        "print(f\"Average Salary: {employee.average_salary(all_employees)}\")\n",
        "\n",
        "# Print the details of each employee\n",
        "for emp in all_employees:\n",
        "    print(emp)\n",
        "\n",
        "# Print total number of employees\n",
        "print(f\"Total number of employees: {Employee.employee_count}\")\n"
      ]
    },
    {
      "cell_type": "code",
      "source": [
        "import numpy as np\n",
        "\n",
        "#random vector of size 20 with floats in the range 1-20\n",
        "vector = np.random.uniform(1, 20, size=20)\n",
        "print(vector)\n",
        "print()\n",
        "\n",
        "#vector to 4x5\n",
        "matrix = vector.reshape(4, 5)\n",
        "\n",
        "#Replace the max in each row with 0 (axis=1)\n",
        "# Get the indices of the maximum values along axis=1\n",
        "max_indices = np.argmax(matrix, axis=1)\n",
        "\n",
        "# Create a boolean mask where the max values are True\n",
        "mask = np.arange(matrix.shape[1]) == max_indices[:, None]\n",
        "\n",
        "# Apply the mask to set max values to 0\n",
        "matrix[mask] = 0\n",
        "\n",
        "# Output the result\n",
        "print(\"Matrix after replacing max values with 0:\")\n",
        "print(matrix)"
      ],
      "metadata": {
        "colab": {
          "base_uri": "https://localhost:8080/"
        },
        "id": "s0OBjFV_a2Rl",
        "outputId": "fee2d2a7-2a73-4526-a7b1-794cce76ce23"
      },
      "execution_count": 5,
      "outputs": [
        {
          "output_type": "stream",
          "name": "stdout",
          "text": [
            "[10.60489783 18.50593155 10.81832637 12.70748452 12.41578758 12.07718122\n",
            " 13.16560585 17.56043397 18.78338925  1.99975503 19.71365595 15.12651912\n",
            " 10.86707038 17.56930849 18.66623914  2.72782396  5.17222583 19.29108754\n",
            "  7.76918748 18.00640469]\n",
            "\n",
            "Matrix after replacing max values with 0:\n",
            "[[10.60489783  0.         10.81832637 12.70748452 12.41578758]\n",
            " [12.07718122 13.16560585 17.56043397  0.          1.99975503]\n",
            " [ 0.         15.12651912 10.86707038 17.56930849 18.66623914]\n",
            " [ 2.72782396  5.17222583  0.          7.76918748 18.00640469]]\n"
          ]
        }
      ]
    }
  ]
}